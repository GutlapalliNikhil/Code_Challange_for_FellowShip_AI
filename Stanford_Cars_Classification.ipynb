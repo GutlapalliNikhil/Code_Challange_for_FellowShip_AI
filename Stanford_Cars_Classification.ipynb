{
  "nbformat": 4,
  "nbformat_minor": 0,
  "metadata": {
    "colab": {
      "name": "Stanford_Cars_Classification.ipynb",
      "provenance": [],
      "authorship_tag": "ABX9TyPJ9OgTKaePmVHilU1bwdOL",
      "include_colab_link": true
    },
    "kernelspec": {
      "name": "python3",
      "display_name": "Python 3"
    },
    "language_info": {
      "name": "python"
    },
    "accelerator": "GPU"
  },
  "cells": [
    {
      "cell_type": "markdown",
      "metadata": {
        "id": "view-in-github",
        "colab_type": "text"
      },
      "source": [
        "<a href=\"https://colab.research.google.com/github/GutlapalliNikhil/Code_Challange_for_FellowShip_AI/blob/main/Stanford_Cars_Classification.ipynb\" target=\"_parent\"><img src=\"https://colab.research.google.com/assets/colab-badge.svg\" alt=\"Open In Colab\"/></a>"
      ]
    },
    {
      "cell_type": "markdown",
      "source": [
        "# **Downloading the Stanford Dataset**"
      ],
      "metadata": {
        "id": "XokaonG1C9L6"
      }
    },
    {
      "cell_type": "code",
      "execution_count": null,
      "metadata": {
        "id": "lRLWe3622bAc"
      },
      "outputs": [],
      "source": [
        "!wget http://ai.stanford.edu/~jkrause/car196/cars_train.tgz"
      ]
    },
    {
      "cell_type": "code",
      "source": [
        "!tar zxvf cars_train.tgz"
      ],
      "metadata": {
        "id": "wTelIAxz4Tw4"
      },
      "execution_count": null,
      "outputs": []
    },
    {
      "cell_type": "code",
      "source": [
        "!wget http://ai.stanford.edu/~jkrause/car196/cars_test.tgz"
      ],
      "metadata": {
        "id": "Nyt6gBlf4kZ2"
      },
      "execution_count": null,
      "outputs": []
    },
    {
      "cell_type": "code",
      "source": [
        "!tar zxvf cars_test.tgz"
      ],
      "metadata": {
        "id": "QSaYQJkG4zaB"
      },
      "execution_count": null,
      "outputs": []
    },
    {
      "cell_type": "markdown",
      "source": [
        "# **Git Clone the package**"
      ],
      "metadata": {
        "id": "kKETAuZqDiKL"
      }
    },
    {
      "cell_type": "code",
      "source": [
        "!git clone https://github.com/GutlapalliNikhil/Code_Challange_for_FellowShip_AI.git"
      ],
      "metadata": {
        "colab": {
          "base_uri": "https://localhost:8080/"
        },
        "id": "sRx__Tp67Kiz",
        "outputId": "86c38966-9bf1-40cb-f24f-df346c922c5f"
      },
      "execution_count": null,
      "outputs": [
        {
          "output_type": "stream",
          "name": "stdout",
          "text": [
            "Cloning into 'Code_Challange_for_FellowShip_AI'...\n",
            "remote: Enumerating objects: 35, done.\u001b[K\n",
            "remote: Counting objects: 100% (35/35), done.\u001b[K\n",
            "remote: Compressing objects: 100% (30/30), done.\u001b[K\n",
            "remote: Total 35 (delta 11), reused 0 (delta 0), pack-reused 0\u001b[K\n",
            "Unpacking objects: 100% (35/35), done.\n"
          ]
        }
      ]
    },
    {
      "cell_type": "code",
      "source": [
        "cd /content/Code_Challange_for_FellowShip_AI"
      ],
      "metadata": {
        "colab": {
          "base_uri": "https://localhost:8080/"
        },
        "id": "Hsw9oqfs7P_G",
        "outputId": "098010b6-2bc6-4171-b874-57e651cdc3f8"
      },
      "execution_count": null,
      "outputs": [
        {
          "output_type": "stream",
          "name": "stdout",
          "text": [
            "/content/Code_Challange_for_FellowShip_AI\n"
          ]
        }
      ]
    },
    {
      "cell_type": "markdown",
      "source": [
        "# **Train the model**"
      ],
      "metadata": {
        "id": "ShlvKveLEVTX"
      }
    },
    {
      "cell_type": "code",
      "source": [
        "!python3 train.py --batch-size 32 --epochs 10"
      ],
      "metadata": {
        "id": "hCzaIsIb7oAQ"
      },
      "execution_count": null,
      "outputs": []
    },
    {
      "cell_type": "markdown",
      "source": [
        "**Modify the Config file in the logs folder by providing the .pth file path**"
      ],
      "metadata": {
        "id": "58U76UMqEeJy"
      }
    },
    {
      "cell_type": "markdown",
      "source": [
        "# **Testing the Model**"
      ],
      "metadata": {
        "id": "4ZLJ1NpyEcMG"
      }
    },
    {
      "cell_type": "code",
      "source": [
        "!python3 test.py --config /content/Code_Challange_for_FellowShip_AI/logs/resnet34_400_10_v1/1/config.json --imgsize 640 --weights /content/Code_Challange_for_FellowShip_AI/logs/resnet34_400_10_v1/1/best4.pth"
      ],
      "metadata": {
        "id": "64OOyYk08zPN"
      },
      "execution_count": null,
      "outputs": []
    },
    {
      "cell_type": "markdown",
      "source": [
        "**We can see the validation accuracy at the end of the verbose in the test.py code**"
      ],
      "metadata": {
        "id": "vxtqyQqXHtZJ"
      }
    }
  ]
}